{
  "nbformat": 4,
  "nbformat_minor": 0,
  "metadata": {
    "colab": {
      "name": "Final-Project.ipynb",
      "provenance": [],
      "collapsed_sections": [],
      "include_colab_link": true
    },
    "kernelspec": {
      "name": "python3",
      "display_name": "Python 3"
    },
    "language_info": {
      "name": "python"
    }
  },
  "cells": [
    {
      "cell_type": "markdown",
      "metadata": {
        "id": "view-in-github",
        "colab_type": "text"
      },
      "source": [
        "<a href=\"https://colab.research.google.com/github/KyoldFusion/BreastCancerML/blob/main/Final_Project.ipynb\" target=\"_parent\"><img src=\"https://colab.research.google.com/assets/colab-badge.svg\" alt=\"Open In Colab\"/></a>"
      ]
    },
    {
      "cell_type": "code",
      "metadata": {
        "id": "63uEyNO1oGNT",
        "colab": {
          "base_uri": "https://localhost:8080/"
        },
        "outputId": "13d2e4a6-f2aa-46d7-820b-8767bdfd2b8b"
      },
      "source": [
        "from sklearn import datasets\n",
        "from sklearn.linear_model import LinearRegression \n",
        "from sklearn.model_selection import train_test_split\n",
        "import pandas as pd\n",
        "import matplotlib.pyplot as plt\n",
        "import numpy as np\n",
        "from sklearn.linear_model import LogisticRegression \n",
        "from sklearn.model_selection import train_test_split\n",
        "from sklearn.metrics import accuracy_score\n",
        "from sklearn.metrics import plot_roc_curve\n",
        "import pandas as pd\n",
        "from statsmodels.multivariate.pca import PCA \n",
        "from numpy.linalg import eig\n",
        "import seaborn as sns\n",
        "from sklearn.metrics import accuracy_score, confusion_matrix, plot_confusion_matrix"
      ],
      "execution_count": null,
      "outputs": [
        {
          "output_type": "stream",
          "text": [
            "/usr/local/lib/python3.7/dist-packages/statsmodels/tools/_testing.py:19: FutureWarning: pandas.util.testing is deprecated. Use the functions in the public API at pandas.testing instead.\n",
            "  import pandas.util.testing as tm\n"
          ],
          "name": "stderr"
        }
      ]
    },
    {
      "cell_type": "code",
      "metadata": {
        "colab": {
          "base_uri": "https://localhost:8080/",
          "height": 422
        },
        "id": "8WkIUgtco_4C",
        "outputId": "05f5fabd-c39a-4e61-c50f-b224407cc2cb"
      },
      "source": [
        "df = pd.read_csv(\"heart.csv\")\n",
        "df"
      ],
      "execution_count": null,
      "outputs": [
        {
          "output_type": "execute_result",
          "data": {
            "text/html": [
              "<div>\n",
              "<style scoped>\n",
              "    .dataframe tbody tr th:only-of-type {\n",
              "        vertical-align: middle;\n",
              "    }\n",
              "\n",
              "    .dataframe tbody tr th {\n",
              "        vertical-align: top;\n",
              "    }\n",
              "\n",
              "    .dataframe thead th {\n",
              "        text-align: right;\n",
              "    }\n",
              "</style>\n",
              "<table border=\"1\" class=\"dataframe\">\n",
              "  <thead>\n",
              "    <tr style=\"text-align: right;\">\n",
              "      <th></th>\n",
              "      <th>age</th>\n",
              "      <th>sex</th>\n",
              "      <th>cp</th>\n",
              "      <th>trestbps</th>\n",
              "      <th>chol</th>\n",
              "      <th>fbs</th>\n",
              "      <th>restecg</th>\n",
              "      <th>thalach</th>\n",
              "      <th>exang</th>\n",
              "      <th>oldpeak</th>\n",
              "      <th>slope</th>\n",
              "      <th>ca</th>\n",
              "      <th>thal</th>\n",
              "      <th>target</th>\n",
              "    </tr>\n",
              "  </thead>\n",
              "  <tbody>\n",
              "    <tr>\n",
              "      <th>0</th>\n",
              "      <td>63</td>\n",
              "      <td>1</td>\n",
              "      <td>3</td>\n",
              "      <td>145</td>\n",
              "      <td>233</td>\n",
              "      <td>1</td>\n",
              "      <td>0</td>\n",
              "      <td>150</td>\n",
              "      <td>0</td>\n",
              "      <td>2.3</td>\n",
              "      <td>0</td>\n",
              "      <td>0</td>\n",
              "      <td>1</td>\n",
              "      <td>1</td>\n",
              "    </tr>\n",
              "    <tr>\n",
              "      <th>1</th>\n",
              "      <td>37</td>\n",
              "      <td>1</td>\n",
              "      <td>2</td>\n",
              "      <td>130</td>\n",
              "      <td>250</td>\n",
              "      <td>0</td>\n",
              "      <td>1</td>\n",
              "      <td>187</td>\n",
              "      <td>0</td>\n",
              "      <td>3.5</td>\n",
              "      <td>0</td>\n",
              "      <td>0</td>\n",
              "      <td>2</td>\n",
              "      <td>1</td>\n",
              "    </tr>\n",
              "    <tr>\n",
              "      <th>2</th>\n",
              "      <td>41</td>\n",
              "      <td>0</td>\n",
              "      <td>1</td>\n",
              "      <td>130</td>\n",
              "      <td>204</td>\n",
              "      <td>0</td>\n",
              "      <td>0</td>\n",
              "      <td>172</td>\n",
              "      <td>0</td>\n",
              "      <td>1.4</td>\n",
              "      <td>2</td>\n",
              "      <td>0</td>\n",
              "      <td>2</td>\n",
              "      <td>1</td>\n",
              "    </tr>\n",
              "    <tr>\n",
              "      <th>3</th>\n",
              "      <td>56</td>\n",
              "      <td>1</td>\n",
              "      <td>1</td>\n",
              "      <td>120</td>\n",
              "      <td>236</td>\n",
              "      <td>0</td>\n",
              "      <td>1</td>\n",
              "      <td>178</td>\n",
              "      <td>0</td>\n",
              "      <td>0.8</td>\n",
              "      <td>2</td>\n",
              "      <td>0</td>\n",
              "      <td>2</td>\n",
              "      <td>1</td>\n",
              "    </tr>\n",
              "    <tr>\n",
              "      <th>4</th>\n",
              "      <td>57</td>\n",
              "      <td>0</td>\n",
              "      <td>0</td>\n",
              "      <td>120</td>\n",
              "      <td>354</td>\n",
              "      <td>0</td>\n",
              "      <td>1</td>\n",
              "      <td>163</td>\n",
              "      <td>1</td>\n",
              "      <td>0.6</td>\n",
              "      <td>2</td>\n",
              "      <td>0</td>\n",
              "      <td>2</td>\n",
              "      <td>1</td>\n",
              "    </tr>\n",
              "    <tr>\n",
              "      <th>...</th>\n",
              "      <td>...</td>\n",
              "      <td>...</td>\n",
              "      <td>...</td>\n",
              "      <td>...</td>\n",
              "      <td>...</td>\n",
              "      <td>...</td>\n",
              "      <td>...</td>\n",
              "      <td>...</td>\n",
              "      <td>...</td>\n",
              "      <td>...</td>\n",
              "      <td>...</td>\n",
              "      <td>...</td>\n",
              "      <td>...</td>\n",
              "      <td>...</td>\n",
              "    </tr>\n",
              "    <tr>\n",
              "      <th>298</th>\n",
              "      <td>57</td>\n",
              "      <td>0</td>\n",
              "      <td>0</td>\n",
              "      <td>140</td>\n",
              "      <td>241</td>\n",
              "      <td>0</td>\n",
              "      <td>1</td>\n",
              "      <td>123</td>\n",
              "      <td>1</td>\n",
              "      <td>0.2</td>\n",
              "      <td>1</td>\n",
              "      <td>0</td>\n",
              "      <td>3</td>\n",
              "      <td>0</td>\n",
              "    </tr>\n",
              "    <tr>\n",
              "      <th>299</th>\n",
              "      <td>45</td>\n",
              "      <td>1</td>\n",
              "      <td>3</td>\n",
              "      <td>110</td>\n",
              "      <td>264</td>\n",
              "      <td>0</td>\n",
              "      <td>1</td>\n",
              "      <td>132</td>\n",
              "      <td>0</td>\n",
              "      <td>1.2</td>\n",
              "      <td>1</td>\n",
              "      <td>0</td>\n",
              "      <td>3</td>\n",
              "      <td>0</td>\n",
              "    </tr>\n",
              "    <tr>\n",
              "      <th>300</th>\n",
              "      <td>68</td>\n",
              "      <td>1</td>\n",
              "      <td>0</td>\n",
              "      <td>144</td>\n",
              "      <td>193</td>\n",
              "      <td>1</td>\n",
              "      <td>1</td>\n",
              "      <td>141</td>\n",
              "      <td>0</td>\n",
              "      <td>3.4</td>\n",
              "      <td>1</td>\n",
              "      <td>2</td>\n",
              "      <td>3</td>\n",
              "      <td>0</td>\n",
              "    </tr>\n",
              "    <tr>\n",
              "      <th>301</th>\n",
              "      <td>57</td>\n",
              "      <td>1</td>\n",
              "      <td>0</td>\n",
              "      <td>130</td>\n",
              "      <td>131</td>\n",
              "      <td>0</td>\n",
              "      <td>1</td>\n",
              "      <td>115</td>\n",
              "      <td>1</td>\n",
              "      <td>1.2</td>\n",
              "      <td>1</td>\n",
              "      <td>1</td>\n",
              "      <td>3</td>\n",
              "      <td>0</td>\n",
              "    </tr>\n",
              "    <tr>\n",
              "      <th>302</th>\n",
              "      <td>57</td>\n",
              "      <td>0</td>\n",
              "      <td>1</td>\n",
              "      <td>130</td>\n",
              "      <td>236</td>\n",
              "      <td>0</td>\n",
              "      <td>0</td>\n",
              "      <td>174</td>\n",
              "      <td>0</td>\n",
              "      <td>0.0</td>\n",
              "      <td>1</td>\n",
              "      <td>1</td>\n",
              "      <td>2</td>\n",
              "      <td>0</td>\n",
              "    </tr>\n",
              "  </tbody>\n",
              "</table>\n",
              "<p>303 rows × 14 columns</p>\n",
              "</div>"
            ],
            "text/plain": [
              "     age  sex  cp  trestbps  chol  fbs  ...  exang  oldpeak  slope  ca  thal  target\n",
              "0     63    1   3       145   233    1  ...      0      2.3      0   0     1       1\n",
              "1     37    1   2       130   250    0  ...      0      3.5      0   0     2       1\n",
              "2     41    0   1       130   204    0  ...      0      1.4      2   0     2       1\n",
              "3     56    1   1       120   236    0  ...      0      0.8      2   0     2       1\n",
              "4     57    0   0       120   354    0  ...      1      0.6      2   0     2       1\n",
              "..   ...  ...  ..       ...   ...  ...  ...    ...      ...    ...  ..   ...     ...\n",
              "298   57    0   0       140   241    0  ...      1      0.2      1   0     3       0\n",
              "299   45    1   3       110   264    0  ...      0      1.2      1   0     3       0\n",
              "300   68    1   0       144   193    1  ...      0      3.4      1   2     3       0\n",
              "301   57    1   0       130   131    0  ...      1      1.2      1   1     3       0\n",
              "302   57    0   1       130   236    0  ...      0      0.0      1   1     2       0\n",
              "\n",
              "[303 rows x 14 columns]"
            ]
          },
          "metadata": {
            "tags": []
          },
          "execution_count": 15
        }
      ]
    },
    {
      "cell_type": "code",
      "metadata": {
        "id": "YicQCvtIoifr"
      },
      "source": [
        "X = df.drop(columns=['target'])\n",
        "y = df['target']"
      ],
      "execution_count": null,
      "outputs": []
    },
    {
      "cell_type": "code",
      "metadata": {
        "id": "hnJSlCKwqUrC"
      },
      "source": [
        "X_train, X_test, y_train, y_test = train_test_split(X, y, test_size=0.20, random_state=30)"
      ],
      "execution_count": null,
      "outputs": []
    },
    {
      "cell_type": "code",
      "metadata": {
        "id": "CoUVDf6isCOq"
      },
      "source": [
        "model = LogisticRegression(solver='liblinear')"
      ],
      "execution_count": null,
      "outputs": []
    },
    {
      "cell_type": "code",
      "metadata": {
        "colab": {
          "base_uri": "https://localhost:8080/"
        },
        "id": "EvbmSEd_sDzT",
        "outputId": "4c3e0710-fb1c-4397-a083-28f545107635"
      },
      "source": [
        "model.fit(X_train, y_train)"
      ],
      "execution_count": null,
      "outputs": [
        {
          "output_type": "execute_result",
          "data": {
            "text/plain": [
              "LogisticRegression(C=1.0, class_weight=None, dual=False, fit_intercept=True,\n",
              "                   intercept_scaling=1, l1_ratio=None, max_iter=100,\n",
              "                   multi_class='auto', n_jobs=None, penalty='l2',\n",
              "                   random_state=None, solver='liblinear', tol=0.0001, verbose=0,\n",
              "                   warm_start=False)"
            ]
          },
          "metadata": {
            "tags": []
          },
          "execution_count": 63
        }
      ]
    },
    {
      "cell_type": "code",
      "metadata": {
        "colab": {
          "base_uri": "https://localhost:8080/"
        },
        "id": "womszT2csL4W",
        "outputId": "8d6c92c4-addd-4834-cb20-b756e428645f"
      },
      "source": [
        "# Make predictions using the testing dataset\n",
        "y_pred = model.predict(X_test)\n",
        "\n",
        "# Score the model with the testing dataset\n",
        "model.score(X_test, y_test)"
      ],
      "execution_count": null,
      "outputs": [
        {
          "output_type": "execute_result",
          "data": {
            "text/plain": [
              "0.8360655737704918"
            ]
          },
          "metadata": {
            "tags": []
          },
          "execution_count": 64
        }
      ]
    },
    {
      "cell_type": "code",
      "metadata": {
        "colab": {
          "base_uri": "https://localhost:8080/",
          "height": 343
        },
        "id": "RwRqG2rTsnWQ",
        "outputId": "695cf6b0-eaf4-4fd2-f96a-95f4b58571fa"
      },
      "source": [
        "df2 = pd.DataFrame({\"Predicted\": y_pred, \"Actual\": y_test})\n",
        "df2.head(10)"
      ],
      "execution_count": null,
      "outputs": [
        {
          "output_type": "execute_result",
          "data": {
            "text/html": [
              "<div>\n",
              "<style scoped>\n",
              "    .dataframe tbody tr th:only-of-type {\n",
              "        vertical-align: middle;\n",
              "    }\n",
              "\n",
              "    .dataframe tbody tr th {\n",
              "        vertical-align: top;\n",
              "    }\n",
              "\n",
              "    .dataframe thead th {\n",
              "        text-align: right;\n",
              "    }\n",
              "</style>\n",
              "<table border=\"1\" class=\"dataframe\">\n",
              "  <thead>\n",
              "    <tr style=\"text-align: right;\">\n",
              "      <th></th>\n",
              "      <th>Predicted</th>\n",
              "      <th>Actual</th>\n",
              "    </tr>\n",
              "  </thead>\n",
              "  <tbody>\n",
              "    <tr>\n",
              "      <th>97</th>\n",
              "      <td>0</td>\n",
              "      <td>1</td>\n",
              "    </tr>\n",
              "    <tr>\n",
              "      <th>122</th>\n",
              "      <td>1</td>\n",
              "      <td>1</td>\n",
              "    </tr>\n",
              "    <tr>\n",
              "      <th>84</th>\n",
              "      <td>1</td>\n",
              "      <td>1</td>\n",
              "    </tr>\n",
              "    <tr>\n",
              "      <th>231</th>\n",
              "      <td>0</td>\n",
              "      <td>0</td>\n",
              "    </tr>\n",
              "    <tr>\n",
              "      <th>110</th>\n",
              "      <td>1</td>\n",
              "      <td>1</td>\n",
              "    </tr>\n",
              "    <tr>\n",
              "      <th>155</th>\n",
              "      <td>1</td>\n",
              "      <td>1</td>\n",
              "    </tr>\n",
              "    <tr>\n",
              "      <th>53</th>\n",
              "      <td>1</td>\n",
              "      <td>1</td>\n",
              "    </tr>\n",
              "    <tr>\n",
              "      <th>85</th>\n",
              "      <td>1</td>\n",
              "      <td>1</td>\n",
              "    </tr>\n",
              "    <tr>\n",
              "      <th>112</th>\n",
              "      <td>1</td>\n",
              "      <td>1</td>\n",
              "    </tr>\n",
              "    <tr>\n",
              "      <th>118</th>\n",
              "      <td>1</td>\n",
              "      <td>1</td>\n",
              "    </tr>\n",
              "  </tbody>\n",
              "</table>\n",
              "</div>"
            ],
            "text/plain": [
              "     Predicted  Actual\n",
              "97           0       1\n",
              "122          1       1\n",
              "84           1       1\n",
              "231          0       0\n",
              "110          1       1\n",
              "155          1       1\n",
              "53           1       1\n",
              "85           1       1\n",
              "112          1       1\n",
              "118          1       1"
            ]
          },
          "metadata": {
            "tags": []
          },
          "execution_count": 65
        }
      ]
    },
    {
      "cell_type": "code",
      "metadata": {
        "colab": {
          "base_uri": "https://localhost:8080/"
        },
        "id": "_xWR8gjlsvem",
        "outputId": "c05692e8-4e3e-47a4-b649-e4e7eebd399f"
      },
      "source": [
        "print(f'Accuracy: {model.score(X_test, y_test)}')"
      ],
      "execution_count": null,
      "outputs": [
        {
          "output_type": "stream",
          "text": [
            "Accuracy: 0.8360655737704918\n"
          ],
          "name": "stdout"
        }
      ]
    },
    {
      "cell_type": "code",
      "metadata": {
        "colab": {
          "base_uri": "https://localhost:8080/",
          "height": 300
        },
        "id": "Gd-PjTQbxc7L",
        "outputId": "47106796-5a3b-4fcb-f976-e8564ba90269"
      },
      "source": [
        "plot_confusion_matrix(model, X_test, y_test, cmap=plt.cm.Reds)"
      ],
      "execution_count": null,
      "outputs": [
        {
          "output_type": "execute_result",
          "data": {
            "text/plain": [
              "<sklearn.metrics._plot.confusion_matrix.ConfusionMatrixDisplay at 0x7fed49d7eb10>"
            ]
          },
          "metadata": {
            "tags": []
          },
          "execution_count": 67
        },
        {
          "output_type": "display_data",
          "data": {
            "image/png": "[encoded data removed]",
            "text/plain": [
              "<Figure size 432x288 with 2 Axes>"
            ]
          },
          "metadata": {
            "tags": [],
            "needs_background": "light"
          }
        }
      ]
    },
    {
      "cell_type": "code",
      "metadata": {
        "id": "ZRKToOTBxsO3",
        "colab": {
          "base_uri": "https://localhost:8080/",
          "height": 296
        },
        "outputId": "fc3ec7f0-8276-488c-fb7c-9fa8e63a19a3"
      },
      "source": [
        "plot_confusion_matrix(model, X_test, y_test, cmap=plt.cm.Reds, normalize='true')"
      ],
      "execution_count": null,
      "outputs": [
        {
          "output_type": "execute_result",
          "data": {
            "text/plain": [
              "<sklearn.metrics._plot.confusion_matrix.ConfusionMatrixDisplay at 0x7fed49862d50>"
            ]
          },
          "metadata": {
            "tags": []
          },
          "execution_count": 68
        },
        {
          "output_type": "display_data",
          "data": {
            "image/png": "[encoded data removed]",
            "text/plain": [
              "<Figure size 432x288 with 2 Axes>"
            ]
          },
          "metadata": {
            "tags": [],
            "needs_background": "light"
          }
        }
      ]
    },
    {
      "cell_type": "code",
      "metadata": {
        "colab": {
          "base_uri": "https://localhost:8080/",
          "height": 452
        },
        "id": "My0cLAGvs0MV",
        "outputId": "050a8608-258f-4f94-ba1f-6d4151d7c7df"
      },
      "source": [
        "X_cov = X.cov()\n",
        "X_cov"
      ],
      "execution_count": null,
      "outputs": [
        {
          "output_type": "execute_result",
          "data": {
            "text/html": [
              "<div>\n",
              "<style scoped>\n",
              "    .dataframe tbody tr th:only-of-type {\n",
              "        vertical-align: middle;\n",
              "    }\n",
              "\n",
              "    .dataframe tbody tr th {\n",
              "        vertical-align: top;\n",
              "    }\n",
              "\n",
              "    .dataframe thead th {\n",
              "        text-align: right;\n",
              "    }\n",
              "</style>\n",
              "<table border=\"1\" class=\"dataframe\">\n",
              "  <thead>\n",
              "    <tr style=\"text-align: right;\">\n",
              "      <th></th>\n",
              "      <th>age</th>\n",
              "      <th>sex</th>\n",
              "      <th>cp</th>\n",
              "      <th>trestbps</th>\n",
              "      <th>chol</th>\n",
              "      <th>fbs</th>\n",
              "      <th>restecg</th>\n",
              "      <th>thalach</th>\n",
              "      <th>exang</th>\n",
              "      <th>oldpeak</th>\n",
              "      <th>slope</th>\n",
              "      <th>ca</th>\n",
              "      <th>thal</th>\n",
              "    </tr>\n",
              "  </thead>\n",
              "  <tbody>\n",
              "    <tr>\n",
              "      <th>age</th>\n",
              "      <td>82.484558</td>\n",
              "      <td>-0.416661</td>\n",
              "      <td>-0.643499</td>\n",
              "      <td>44.495902</td>\n",
              "      <td>100.585076</td>\n",
              "      <td>0.392433</td>\n",
              "      <td>-0.555013</td>\n",
              "      <td>-82.903318</td>\n",
              "      <td>0.413022</td>\n",
              "      <td>2.214583</td>\n",
              "      <td>-0.944791</td>\n",
              "      <td>2.566356</td>\n",
              "      <td>0.378139</td>\n",
              "    </tr>\n",
              "    <tr>\n",
              "      <th>sex</th>\n",
              "      <td>-0.416661</td>\n",
              "      <td>0.217166</td>\n",
              "      <td>-0.023736</td>\n",
              "      <td>-0.463970</td>\n",
              "      <td>-4.780309</td>\n",
              "      <td>0.007475</td>\n",
              "      <td>-0.014261</td>\n",
              "      <td>-0.469871</td>\n",
              "      <td>0.031014</td>\n",
              "      <td>0.051993</td>\n",
              "      <td>-0.008819</td>\n",
              "      <td>0.056357</td>\n",
              "      <td>0.059930</td>\n",
              "    </tr>\n",
              "    <tr>\n",
              "      <th>cp</th>\n",
              "      <td>-0.643499</td>\n",
              "      <td>-0.023736</td>\n",
              "      <td>1.065132</td>\n",
              "      <td>0.861714</td>\n",
              "      <td>-4.113774</td>\n",
              "      <td>0.034719</td>\n",
              "      <td>0.024108</td>\n",
              "      <td>6.991618</td>\n",
              "      <td>-0.191168</td>\n",
              "      <td>-0.178821</td>\n",
              "      <td>0.076137</td>\n",
              "      <td>-0.191080</td>\n",
              "      <td>-0.102201</td>\n",
              "    </tr>\n",
              "    <tr>\n",
              "      <th>trestbps</th>\n",
              "      <td>44.495902</td>\n",
              "      <td>-0.463970</td>\n",
              "      <td>0.861714</td>\n",
              "      <td>307.586453</td>\n",
              "      <td>111.967215</td>\n",
              "      <td>1.109042</td>\n",
              "      <td>-1.052324</td>\n",
              "      <td>-18.759131</td>\n",
              "      <td>0.557111</td>\n",
              "      <td>3.934486</td>\n",
              "      <td>-1.312832</td>\n",
              "      <td>1.818373</td>\n",
              "      <td>0.668022</td>\n",
              "    </tr>\n",
              "    <tr>\n",
              "      <th>chol</th>\n",
              "      <td>100.585076</td>\n",
              "      <td>-4.780309</td>\n",
              "      <td>-4.113774</td>\n",
              "      <td>111.967215</td>\n",
              "      <td>2686.426748</td>\n",
              "      <td>0.245427</td>\n",
              "      <td>-4.116703</td>\n",
              "      <td>-11.800494</td>\n",
              "      <td>1.631991</td>\n",
              "      <td>3.246794</td>\n",
              "      <td>-0.128964</td>\n",
              "      <td>3.737252</td>\n",
              "      <td>3.135488</td>\n",
              "    </tr>\n",
              "    <tr>\n",
              "      <th>fbs</th>\n",
              "      <td>0.392433</td>\n",
              "      <td>0.007475</td>\n",
              "      <td>0.034719</td>\n",
              "      <td>1.109042</td>\n",
              "      <td>0.245427</td>\n",
              "      <td>0.126877</td>\n",
              "      <td>-0.015769</td>\n",
              "      <td>-0.069897</td>\n",
              "      <td>0.004295</td>\n",
              "      <td>0.002377</td>\n",
              "      <td>-0.013147</td>\n",
              "      <td>0.050259</td>\n",
              "      <td>-0.006983</td>\n",
              "    </tr>\n",
              "    <tr>\n",
              "      <th>restecg</th>\n",
              "      <td>-0.555013</td>\n",
              "      <td>-0.014261</td>\n",
              "      <td>0.024108</td>\n",
              "      <td>-1.052324</td>\n",
              "      <td>-4.116703</td>\n",
              "      <td>-0.015769</td>\n",
              "      <td>0.276528</td>\n",
              "      <td>0.531462</td>\n",
              "      <td>-0.017474</td>\n",
              "      <td>-0.035883</td>\n",
              "      <td>0.030151</td>\n",
              "      <td>-0.038741</td>\n",
              "      <td>-0.003858</td>\n",
              "    </tr>\n",
              "    <tr>\n",
              "      <th>thalach</th>\n",
              "      <td>-82.903318</td>\n",
              "      <td>-0.469871</td>\n",
              "      <td>6.991618</td>\n",
              "      <td>-18.759131</td>\n",
              "      <td>-11.800494</td>\n",
              "      <td>-0.069897</td>\n",
              "      <td>0.531462</td>\n",
              "      <td>524.646406</td>\n",
              "      <td>-4.076290</td>\n",
              "      <td>-9.153518</td>\n",
              "      <td>5.459369</td>\n",
              "      <td>-4.993235</td>\n",
              "      <td>-1.352491</td>\n",
              "    </tr>\n",
              "    <tr>\n",
              "      <th>exang</th>\n",
              "      <td>0.413022</td>\n",
              "      <td>0.031014</td>\n",
              "      <td>-0.191168</td>\n",
              "      <td>0.557111</td>\n",
              "      <td>1.631991</td>\n",
              "      <td>0.004295</td>\n",
              "      <td>-0.017474</td>\n",
              "      <td>-4.076290</td>\n",
              "      <td>0.220707</td>\n",
              "      <td>0.157216</td>\n",
              "      <td>-0.074618</td>\n",
              "      <td>0.055603</td>\n",
              "      <td>0.059472</td>\n",
              "    </tr>\n",
              "    <tr>\n",
              "      <th>oldpeak</th>\n",
              "      <td>2.214583</td>\n",
              "      <td>0.051993</td>\n",
              "      <td>-0.178821</td>\n",
              "      <td>3.934486</td>\n",
              "      <td>3.246794</td>\n",
              "      <td>0.002377</td>\n",
              "      <td>-0.035883</td>\n",
              "      <td>-9.153518</td>\n",
              "      <td>0.157216</td>\n",
              "      <td>1.348095</td>\n",
              "      <td>-0.413219</td>\n",
              "      <td>0.264396</td>\n",
              "      <td>0.149462</td>\n",
              "    </tr>\n",
              "    <tr>\n",
              "      <th>slope</th>\n",
              "      <td>-0.944791</td>\n",
              "      <td>-0.008819</td>\n",
              "      <td>0.076137</td>\n",
              "      <td>-1.312832</td>\n",
              "      <td>-0.128964</td>\n",
              "      <td>-0.013147</td>\n",
              "      <td>0.030151</td>\n",
              "      <td>5.459369</td>\n",
              "      <td>-0.074618</td>\n",
              "      <td>-0.413219</td>\n",
              "      <td>0.379735</td>\n",
              "      <td>-0.050510</td>\n",
              "      <td>-0.039527</td>\n",
              "    </tr>\n",
              "    <tr>\n",
              "      <th>ca</th>\n",
              "      <td>2.566356</td>\n",
              "      <td>0.056357</td>\n",
              "      <td>-0.191080</td>\n",
              "      <td>1.818373</td>\n",
              "      <td>3.737252</td>\n",
              "      <td>0.050259</td>\n",
              "      <td>-0.038741</td>\n",
              "      <td>-4.993235</td>\n",
              "      <td>0.055603</td>\n",
              "      <td>0.264396</td>\n",
              "      <td>-0.050510</td>\n",
              "      <td>1.045724</td>\n",
              "      <td>0.095065</td>\n",
              "    </tr>\n",
              "    <tr>\n",
              "      <th>thal</th>\n",
              "      <td>0.378139</td>\n",
              "      <td>0.059930</td>\n",
              "      <td>-0.102201</td>\n",
              "      <td>0.668022</td>\n",
              "      <td>3.135488</td>\n",
              "      <td>-0.006983</td>\n",
              "      <td>-0.003858</td>\n",
              "      <td>-1.352491</td>\n",
              "      <td>0.059472</td>\n",
              "      <td>0.149462</td>\n",
              "      <td>-0.039527</td>\n",
              "      <td>0.095065</td>\n",
              "      <td>0.374883</td>\n",
              "    </tr>\n",
              "  </tbody>\n",
              "</table>\n",
              "</div>"
            ],
            "text/plain": [
              "                 age       sex        cp  ...     slope        ca      thal\n",
              "age        82.484558 -0.416661 -0.643499  ... -0.944791  2.566356  0.378139\n",
              "sex        -0.416661  0.217166 -0.023736  ... -0.008819  0.056357  0.059930\n",
              "cp         -0.643499 -0.023736  1.065132  ...  0.076137 -0.191080 -0.102201\n",
              "trestbps   44.495902 -0.463970  0.861714  ... -1.312832  1.818373  0.668022\n",
              "chol      100.585076 -4.780309 -4.113774  ... -0.128964  3.737252  3.135488\n",
              "fbs         0.392433  0.007475  0.034719  ... -0.013147  0.050259 -0.006983\n",
              "restecg    -0.555013 -0.014261  0.024108  ...  0.030151 -0.038741 -0.003858\n",
              "thalach   -82.903318 -0.469871  6.991618  ...  5.459369 -4.993235 -1.352491\n",
              "exang       0.413022  0.031014 -0.191168  ... -0.074618  0.055603  0.059472\n",
              "oldpeak     2.214583  0.051993 -0.178821  ... -0.413219  0.264396  0.149462\n",
              "slope      -0.944791 -0.008819  0.076137  ...  0.379735 -0.050510 -0.039527\n",
              "ca          2.566356  0.056357 -0.191080  ... -0.050510  1.045724  0.095065\n",
              "thal        0.378139  0.059930 -0.102201  ... -0.039527  0.095065  0.374883\n",
              "\n",
              "[13 rows x 13 columns]"
            ]
          },
          "metadata": {
            "tags": []
          },
          "execution_count": 69
        }
      ]
    },
    {
      "cell_type": "code",
      "metadata": {
        "id": "Uon8n6BqtKP6"
      },
      "source": [
        "values, vectors = eig(X_cov)"
      ],
      "execution_count": null,
      "outputs": []
    },
    {
      "cell_type": "code",
      "metadata": {
        "colab": {
          "base_uri": "https://localhost:8080/"
        },
        "id": "McVyrByPtSqs",
        "outputId": "7f534957-946b-4fac-d332-f2b830883ce1"
      },
      "source": [
        "# Print Eigenvalues & Eigenvectors\n",
        "print(f\"Eigenvalues:\\n{values}\")\n",
        "print()\n",
        "print(f\"Eigenvectors:\\n{vectors}\")"
      ],
      "execution_count": null,
      "outputs": [
        {
          "output_type": "stream",
          "text": [
            "Eigenvalues:\n",
            "[2.69586528e+03 5.42264942e+02 3.05073066e+02 5.84779802e+01\n",
            " 1.38508932e+00 1.01418660e+00 8.25795710e-01 3.60017094e-01\n",
            " 1.13275430e-01 2.78450175e-01 1.47738670e-01 1.81365780e-01\n",
            " 2.11828958e-01]\n",
            "\n",
            "Eigenvectors:\n",
            "[[ 3.94611190e-02  1.82186255e-01 -1.25504851e-01 -9.74045897e-01\n",
            "  -9.42717280e-03 -3.57395672e-03 -2.35709774e-02 -4.13752558e-03\n",
            "   3.39271415e-03 -1.17999192e-03 -3.69770418e-04  6.83160351e-03\n",
            "  -2.15313686e-04]\n",
            " [-1.78278639e-03  7.93727347e-04  1.06523049e-03  4.63454359e-03\n",
            "   7.83114718e-02  2.81628747e-02  4.56421467e-02 -3.05438663e-01\n",
            "   9.06424879e-02  2.18543751e-01  4.36806459e-01  7.73979050e-01\n",
            "  -2.27707877e-01]\n",
            " [-1.53716667e-03 -1.25419057e-02 -6.16323248e-03 -9.26243002e-03\n",
            "  -3.33646266e-01 -7.00831283e-01  5.97896304e-01 -1.27720409e-01\n",
            "   6.29721136e-02  2.68592119e-02 -1.32559224e-01  3.42705015e-02\n",
            "   2.53547739e-03]\n",
            " [ 4.75880705e-02  1.03810033e-01 -9.82278058e-01  1.48034489e-01\n",
            "  -9.78973319e-03  7.57948749e-03 -1.79648282e-03  2.21211941e-04\n",
            "   2.71386118e-03 -2.39693971e-03  2.12261010e-03  4.60794808e-04\n",
            "  -2.61311763e-04]\n",
            " [ 9.98053283e-01 -1.94250905e-02  5.08647357e-02  3.02510768e-02\n",
            "  -1.34405380e-03 -1.32801334e-03  1.06799220e-03  2.48702474e-04\n",
            "   2.43063575e-05 -7.02388590e-04  1.11670584e-03  1.85665336e-03\n",
            "   1.43642142e-05]\n",
            " [ 1.16389852e-04  4.61971663e-04 -3.66506652e-03 -3.43436410e-03\n",
            "  -1.46446341e-03  1.39101872e-03  6.83627937e-02  2.10382349e-02\n",
            "  -9.66142994e-01  1.09230976e-01 -1.05543128e-01  1.73169200e-01\n",
            "   9.14536602e-02]\n",
            " [-1.55243101e-03 -1.20213285e-03  2.70960599e-03  2.95854666e-03\n",
            "  -2.63069088e-02 -1.45792095e-02 -3.69325468e-03 -2.77378899e-02\n",
            "  -3.22022496e-02 -9.21570921e-01  3.44511354e-02  3.05140830e-01\n",
            "   2.31656336e-01]\n",
            " [-7.35838010e-03 -9.77188942e-01 -1.28926064e-01 -1.66483567e-01\n",
            "   2.40818777e-02  3.08851063e-03 -8.27775377e-03  1.29852482e-03\n",
            "   1.60318273e-03  1.70257558e-03 -3.33334366e-03  3.21391733e-03\n",
            "   4.72492374e-03]\n",
            " [ 6.31483108e-04  7.54817512e-03  2.85338412e-05  7.02397370e-03\n",
            "   1.11905513e-01  7.12719031e-02 -1.17416593e-01 -1.19448855e-01\n",
            "   1.70949896e-01  1.03763621e-01 -8.68102869e-01  3.98645562e-01\n",
            "   4.15264372e-02]\n",
            " [ 1.32988432e-03  1.79407185e-02 -9.21430005e-03  8.03485794e-04\n",
            "   7.82757942e-01 -5.02052821e-01 -1.15625931e-01  9.81977382e-02\n",
            "  -5.97321537e-02 -1.11899841e-01 -6.29274644e-03 -6.23613198e-02\n",
            "  -3.02974576e-01]\n",
            " [-9.99857233e-05 -1.04271838e-02  2.30213080e-03 -3.22289926e-03\n",
            "  -2.31634311e-01  2.10784222e-01  9.33295426e-02 -1.05935325e-01\n",
            "  -1.10157045e-01 -2.54295102e-01 -1.57708718e-01 -1.15442110e-01\n",
            "  -8.75704827e-01]\n",
            " [ 1.46773705e-03  1.01095919e-02 -4.19733045e-03 -2.23502870e-02\n",
            "   4.19084877e-01  4.51216352e-01  7.73870107e-01  1.00777974e-01\n",
            "   5.98724778e-02 -1.91336770e-02 -2.76096478e-02 -2.85875875e-02\n",
            "   7.47573520e-02]\n",
            " [ 1.18215354e-03  2.59241726e-03 -1.21740467e-03  8.66772541e-04\n",
            "   1.62995102e-01  5.08276358e-02 -1.94898350e-02 -9.18626414e-01\n",
            "  -6.94020941e-02 -4.42916816e-02 -2.90076202e-03 -3.15707865e-01\n",
            "   1.41866769e-01]]\n"
          ],
          "name": "stdout"
        }
      ]
    },
    {
      "cell_type": "code",
      "metadata": {
        "colab": {
          "base_uri": "https://localhost:8080/"
        },
        "id": "1_7w6hqJtbEz",
        "outputId": "9f848bbb-29b8-490b-f575-298c0df371da"
      },
      "source": [
        "# Confirm single value for first Eigenvector & Eigenvalue Product\n",
        "# First Eigenvector = vectors[:,0]\n",
        "# First Eigenvalue = values[0]\n",
        "X_values = X_cov.values[0]\n",
        "print(f\"First Eigenvector: {vectors[:,0]} \")\n",
        "print(f\"First Eigenvalue: {values[0]} \")\n",
        "print(f\"Cov Matrix & Eigenvector Product: {(vectors[:,0][0]*X_values[0])+(vectors[:,0][1]*X_values[1])+(vectors[:,0][2]*X_values[2])+(vectors[:,0][3]*X_values[3])}\")\n",
        "print(f\"Eigenvecotr & Eigenvalue Product: {vectors[:,0][0]*values[0]}\")"
      ],
      "execution_count": null,
      "outputs": [
        {
          "output_type": "stream",
          "text": [
            "First Eigenvector: [ 3.94611190e-02 -1.78278639e-03 -1.53716667e-03  4.75880705e-02\n",
            "  9.98053283e-01  1.16389852e-04 -1.55243101e-03 -7.35838010e-03\n",
            "  6.31483108e-04  1.32988432e-03 -9.99857233e-05  1.46773705e-03\n",
            "  1.18215354e-03] \n",
            "First Eigenvalue: 2695.8652765881125 \n",
            "Cov Matrix & Eigenvector Product: 5.374139072160219\n",
            "Eigenvecotr & Eigenvalue Product: 106.3818603904336\n"
          ],
          "name": "stdout"
        }
      ]
    },
    {
      "cell_type": "code",
      "metadata": {
        "colab": {
          "base_uri": "https://localhost:8080/"
        },
        "id": "aMwPe4yitiyE",
        "outputId": "a4362589-3b6c-41f6-a7c8-f71bf2ce4850"
      },
      "source": [
        "# Confirm all values for first Eigenvector & Eigenvalue with Dot Product Multiplication \n",
        "print(X_cov.dot(vectors[:,0]))\n",
        "print(vectors[:,0].dot(values[0]))"
      ],
      "execution_count": null,
      "outputs": [
        {
          "output_type": "stream",
          "text": [
            "age          106.381860\n",
            "sex           -4.806152\n",
            "cp            -4.143994\n",
            "trestbps     128.291027\n",
            "chol        2690.617190\n",
            "fbs            0.313771\n",
            "restecg       -4.185145\n",
            "thalach      -19.837201\n",
            "exang          1.702393\n",
            "oldpeak        3.585189\n",
            "slope         -0.269548\n",
            "ca             3.956821\n",
            "thal           3.186927\n",
            "dtype: float64\n",
            "[ 1.06381860e+02 -4.80615191e+00 -4.14399424e+00  1.28291027e+02\n",
            "  2.69061719e+03  3.13771362e-01 -4.18514484e+00 -1.98372014e+01\n",
            "  1.70239338e+00  3.58518897e+00 -2.69548040e-01  3.95682134e+00\n",
            "  3.18692668e+00]\n"
          ],
          "name": "stdout"
        }
      ]
    },
    {
      "cell_type": "code",
      "metadata": {
        "colab": {
          "base_uri": "https://localhost:8080/",
          "height": 482
        },
        "id": "K8KSOlN6tk-9",
        "outputId": "f3343c5e-7242-43d1-afcb-64d960636fed"
      },
      "source": [
        "df.corr()"
      ],
      "execution_count": null,
      "outputs": [
        {
          "output_type": "execute_result",
          "data": {
            "text/html": [
              "<div>\n",
              "<style scoped>\n",
              "    .dataframe tbody tr th:only-of-type {\n",
              "        vertical-align: middle;\n",
              "    }\n",
              "\n",
              "    .dataframe tbody tr th {\n",
              "        vertical-align: top;\n",
              "    }\n",
              "\n",
              "    .dataframe thead th {\n",
              "        text-align: right;\n",
              "    }\n",
              "</style>\n",
              "<table border=\"1\" class=\"dataframe\">\n",
              "  <thead>\n",
              "    <tr style=\"text-align: right;\">\n",
              "      <th></th>\n",
              "      <th>age</th>\n",
              "      <th>sex</th>\n",
              "      <th>cp</th>\n",
              "      <th>trestbps</th>\n",
              "      <th>chol</th>\n",
              "      <th>fbs</th>\n",
              "      <th>restecg</th>\n",
              "      <th>thalach</th>\n",
              "      <th>exang</th>\n",
              "      <th>oldpeak</th>\n",
              "      <th>slope</th>\n",
              "      <th>ca</th>\n",
              "      <th>thal</th>\n",
              "      <th>target</th>\n",
              "    </tr>\n",
              "  </thead>\n",
              "  <tbody>\n",
              "    <tr>\n",
              "      <th>age</th>\n",
              "      <td>1.000000</td>\n",
              "      <td>-0.098447</td>\n",
              "      <td>-0.068653</td>\n",
              "      <td>0.279351</td>\n",
              "      <td>0.213678</td>\n",
              "      <td>0.121308</td>\n",
              "      <td>-0.116211</td>\n",
              "      <td>-0.398522</td>\n",
              "      <td>0.096801</td>\n",
              "      <td>0.210013</td>\n",
              "      <td>-0.168814</td>\n",
              "      <td>0.276326</td>\n",
              "      <td>0.068001</td>\n",
              "      <td>-0.225439</td>\n",
              "    </tr>\n",
              "    <tr>\n",
              "      <th>sex</th>\n",
              "      <td>-0.098447</td>\n",
              "      <td>1.000000</td>\n",
              "      <td>-0.049353</td>\n",
              "      <td>-0.056769</td>\n",
              "      <td>-0.197912</td>\n",
              "      <td>0.045032</td>\n",
              "      <td>-0.058196</td>\n",
              "      <td>-0.044020</td>\n",
              "      <td>0.141664</td>\n",
              "      <td>0.096093</td>\n",
              "      <td>-0.030711</td>\n",
              "      <td>0.118261</td>\n",
              "      <td>0.210041</td>\n",
              "      <td>-0.280937</td>\n",
              "    </tr>\n",
              "    <tr>\n",
              "      <th>cp</th>\n",
              "      <td>-0.068653</td>\n",
              "      <td>-0.049353</td>\n",
              "      <td>1.000000</td>\n",
              "      <td>0.047608</td>\n",
              "      <td>-0.076904</td>\n",
              "      <td>0.094444</td>\n",
              "      <td>0.044421</td>\n",
              "      <td>0.295762</td>\n",
              "      <td>-0.394280</td>\n",
              "      <td>-0.149230</td>\n",
              "      <td>0.119717</td>\n",
              "      <td>-0.181053</td>\n",
              "      <td>-0.161736</td>\n",
              "      <td>0.433798</td>\n",
              "    </tr>\n",
              "    <tr>\n",
              "      <th>trestbps</th>\n",
              "      <td>0.279351</td>\n",
              "      <td>-0.056769</td>\n",
              "      <td>0.047608</td>\n",
              "      <td>1.000000</td>\n",
              "      <td>0.123174</td>\n",
              "      <td>0.177531</td>\n",
              "      <td>-0.114103</td>\n",
              "      <td>-0.046698</td>\n",
              "      <td>0.067616</td>\n",
              "      <td>0.193216</td>\n",
              "      <td>-0.121475</td>\n",
              "      <td>0.101389</td>\n",
              "      <td>0.062210</td>\n",
              "      <td>-0.144931</td>\n",
              "    </tr>\n",
              "    <tr>\n",
              "      <th>chol</th>\n",
              "      <td>0.213678</td>\n",
              "      <td>-0.197912</td>\n",
              "      <td>-0.076904</td>\n",
              "      <td>0.123174</td>\n",
              "      <td>1.000000</td>\n",
              "      <td>0.013294</td>\n",
              "      <td>-0.151040</td>\n",
              "      <td>-0.009940</td>\n",
              "      <td>0.067023</td>\n",
              "      <td>0.053952</td>\n",
              "      <td>-0.004038</td>\n",
              "      <td>0.070511</td>\n",
              "      <td>0.098803</td>\n",
              "      <td>-0.085239</td>\n",
              "    </tr>\n",
              "    <tr>\n",
              "      <th>fbs</th>\n",
              "      <td>0.121308</td>\n",
              "      <td>0.045032</td>\n",
              "      <td>0.094444</td>\n",
              "      <td>0.177531</td>\n",
              "      <td>0.013294</td>\n",
              "      <td>1.000000</td>\n",
              "      <td>-0.084189</td>\n",
              "      <td>-0.008567</td>\n",
              "      <td>0.025665</td>\n",
              "      <td>0.005747</td>\n",
              "      <td>-0.059894</td>\n",
              "      <td>0.137979</td>\n",
              "      <td>-0.032019</td>\n",
              "      <td>-0.028046</td>\n",
              "    </tr>\n",
              "    <tr>\n",
              "      <th>restecg</th>\n",
              "      <td>-0.116211</td>\n",
              "      <td>-0.058196</td>\n",
              "      <td>0.044421</td>\n",
              "      <td>-0.114103</td>\n",
              "      <td>-0.151040</td>\n",
              "      <td>-0.084189</td>\n",
              "      <td>1.000000</td>\n",
              "      <td>0.044123</td>\n",
              "      <td>-0.070733</td>\n",
              "      <td>-0.058770</td>\n",
              "      <td>0.093045</td>\n",
              "      <td>-0.072042</td>\n",
              "      <td>-0.011981</td>\n",
              "      <td>0.137230</td>\n",
              "    </tr>\n",
              "    <tr>\n",
              "      <th>thalach</th>\n",
              "      <td>-0.398522</td>\n",
              "      <td>-0.044020</td>\n",
              "      <td>0.295762</td>\n",
              "      <td>-0.046698</td>\n",
              "      <td>-0.009940</td>\n",
              "      <td>-0.008567</td>\n",
              "      <td>0.044123</td>\n",
              "      <td>1.000000</td>\n",
              "      <td>-0.378812</td>\n",
              "      <td>-0.344187</td>\n",
              "      <td>0.386784</td>\n",
              "      <td>-0.213177</td>\n",
              "      <td>-0.096439</td>\n",
              "      <td>0.421741</td>\n",
              "    </tr>\n",
              "    <tr>\n",
              "      <th>exang</th>\n",
              "      <td>0.096801</td>\n",
              "      <td>0.141664</td>\n",
              "      <td>-0.394280</td>\n",
              "      <td>0.067616</td>\n",
              "      <td>0.067023</td>\n",
              "      <td>0.025665</td>\n",
              "      <td>-0.070733</td>\n",
              "      <td>-0.378812</td>\n",
              "      <td>1.000000</td>\n",
              "      <td>0.288223</td>\n",
              "      <td>-0.257748</td>\n",
              "      <td>0.115739</td>\n",
              "      <td>0.206754</td>\n",
              "      <td>-0.436757</td>\n",
              "    </tr>\n",
              "    <tr>\n",
              "      <th>oldpeak</th>\n",
              "      <td>0.210013</td>\n",
              "      <td>0.096093</td>\n",
              "      <td>-0.149230</td>\n",
              "      <td>0.193216</td>\n",
              "      <td>0.053952</td>\n",
              "      <td>0.005747</td>\n",
              "      <td>-0.058770</td>\n",
              "      <td>-0.344187</td>\n",
              "      <td>0.288223</td>\n",
              "      <td>1.000000</td>\n",
              "      <td>-0.577537</td>\n",
              "      <td>0.222682</td>\n",
              "      <td>0.210244</td>\n",
              "      <td>-0.430696</td>\n",
              "    </tr>\n",
              "    <tr>\n",
              "      <th>slope</th>\n",
              "      <td>-0.168814</td>\n",
              "      <td>-0.030711</td>\n",
              "      <td>0.119717</td>\n",
              "      <td>-0.121475</td>\n",
              "      <td>-0.004038</td>\n",
              "      <td>-0.059894</td>\n",
              "      <td>0.093045</td>\n",
              "      <td>0.386784</td>\n",
              "      <td>-0.257748</td>\n",
              "      <td>-0.577537</td>\n",
              "      <td>1.000000</td>\n",
              "      <td>-0.080155</td>\n",
              "      <td>-0.104764</td>\n",
              "      <td>0.345877</td>\n",
              "    </tr>\n",
              "    <tr>\n",
              "      <th>ca</th>\n",
              "      <td>0.276326</td>\n",
              "      <td>0.118261</td>\n",
              "      <td>-0.181053</td>\n",
              "      <td>0.101389</td>\n",
              "      <td>0.070511</td>\n",
              "      <td>0.137979</td>\n",
              "      <td>-0.072042</td>\n",
              "      <td>-0.213177</td>\n",
              "      <td>0.115739</td>\n",
              "      <td>0.222682</td>\n",
              "      <td>-0.080155</td>\n",
              "      <td>1.000000</td>\n",
              "      <td>0.151832</td>\n",
              "      <td>-0.391724</td>\n",
              "    </tr>\n",
              "    <tr>\n",
              "      <th>thal</th>\n",
              "      <td>0.068001</td>\n",
              "      <td>0.210041</td>\n",
              "      <td>-0.161736</td>\n",
              "      <td>0.062210</td>\n",
              "      <td>0.098803</td>\n",
              "      <td>-0.032019</td>\n",
              "      <td>-0.011981</td>\n",
              "      <td>-0.096439</td>\n",
              "      <td>0.206754</td>\n",
              "      <td>0.210244</td>\n",
              "      <td>-0.104764</td>\n",
              "      <td>0.151832</td>\n",
              "      <td>1.000000</td>\n",
              "      <td>-0.344029</td>\n",
              "    </tr>\n",
              "    <tr>\n",
              "      <th>target</th>\n",
              "      <td>-0.225439</td>\n",
              "      <td>-0.280937</td>\n",
              "      <td>0.433798</td>\n",
              "      <td>-0.144931</td>\n",
              "      <td>-0.085239</td>\n",
              "      <td>-0.028046</td>\n",
              "      <td>0.137230</td>\n",
              "      <td>0.421741</td>\n",
              "      <td>-0.436757</td>\n",
              "      <td>-0.430696</td>\n",
              "      <td>0.345877</td>\n",
              "      <td>-0.391724</td>\n",
              "      <td>-0.344029</td>\n",
              "      <td>1.000000</td>\n",
              "    </tr>\n",
              "  </tbody>\n",
              "</table>\n",
              "</div>"
            ],
            "text/plain": [
              "               age       sex        cp  ...        ca      thal    target\n",
              "age       1.000000 -0.098447 -0.068653  ...  0.276326  0.068001 -0.225439\n",
              "sex      -0.098447  1.000000 -0.049353  ...  0.118261  0.210041 -0.280937\n",
              "cp       -0.068653 -0.049353  1.000000  ... -0.181053 -0.161736  0.433798\n",
              "trestbps  0.279351 -0.056769  0.047608  ...  0.101389  0.062210 -0.144931\n",
              "chol      0.213678 -0.197912 -0.076904  ...  0.070511  0.098803 -0.085239\n",
              "fbs       0.121308  0.045032  0.094444  ...  0.137979 -0.032019 -0.028046\n",
              "restecg  -0.116211 -0.058196  0.044421  ... -0.072042 -0.011981  0.137230\n",
              "thalach  -0.398522 -0.044020  0.295762  ... -0.213177 -0.096439  0.421741\n",
              "exang     0.096801  0.141664 -0.394280  ...  0.115739  0.206754 -0.436757\n",
              "oldpeak   0.210013  0.096093 -0.149230  ...  0.222682  0.210244 -0.430696\n",
              "slope    -0.168814 -0.030711  0.119717  ... -0.080155 -0.104764  0.345877\n",
              "ca        0.276326  0.118261 -0.181053  ...  1.000000  0.151832 -0.391724\n",
              "thal      0.068001  0.210041 -0.161736  ...  0.151832  1.000000 -0.344029\n",
              "target   -0.225439 -0.280937  0.433798  ... -0.391724 -0.344029  1.000000\n",
              "\n",
              "[14 rows x 14 columns]"
            ]
          },
          "metadata": {
            "tags": []
          },
          "execution_count": 74
        }
      ]
    },
    {
      "cell_type": "code",
      "metadata": {
        "id": "g7lpY5y1t-RY"
      },
      "source": [
        "pca = PCA(X, standardize=True, method='eig')\n",
        "components_df = pca.factors"
      ],
      "execution_count": null,
      "outputs": []
    },
    {
      "cell_type": "code",
      "metadata": {
        "colab": {
          "base_uri": "https://localhost:8080/",
          "height": 268
        },
        "id": "rLhyFea-uOWT",
        "outputId": "d32892a2-d1c0-4712-f4cb-504fa7c99d9a"
      },
      "source": [
        "# Combine the X varaibles and new principal compenents\n",
        "combined_df = pd.concat([X, components_df], axis=1)\n",
        "\n",
        "# Create a correlation matrix of all X variables and principal components\n",
        "correlation = combined_df.corr()\n",
        "\n",
        "# Creat a matrix showing the correlation between:\n",
        "# Features vs Principal Components\n",
        "# Remove the parts of the output to keep the correlation between features and principal components\n",
        "# Keep Rows up till components: correlation[:-len(components_df.columns)]\n",
        "# Keep Columns starting with compenents: .loc[:, 'comp_00':]\n",
        "correlation_plot_data = correlation[:-len(components_df.columns)].loc[:, 'comp_00':]\n",
        "\n",
        "# Plot Features vs Principal Components correlation matrix\n",
        "fig, ax = plt.subplots(figsize=(20, 7))\n",
        "sns.heatmap(correlation_plot_data, cmap='YlGnBu', linewidths=.7, annot=True, fmt='.2f')\n",
        "plt.show()"
      ],
      "execution_count": null,
      "outputs": [
        {
          "output_type": "display_data",
          "data": {
            "image/png": "[encoded data removed]",
            "text/plain": [
              "<Figure size 1440x504 with 2 Axes>"
            ]
          },
          "metadata": {
            "tags": [],
            "needs_background": "light"
          }
        }
      ]
    },
    {
      "cell_type": "code",
      "metadata": {
        "colab": {
          "base_uri": "https://localhost:8080/"
        },
        "id": "Qvmz9LQGuyj8",
        "outputId": "23200522-3c0a-44d7-fcdb-432b16aa32d9"
      },
      "source": [
        "eigen_values = pd.DataFrame(data=pca.eigenvals.values, columns=['eigenvalue'])\n",
        "print(eigen_values)"
      ],
      "execution_count": null,
      "outputs": [
        {
          "output_type": "stream",
          "text": [
            "    eigenvalue\n",
            "0   837.197152\n",
            "1   465.617677\n",
            "2   370.518793\n",
            "3   357.887090\n",
            "4   309.655862\n",
            "5   293.914808\n",
            "6   261.419288\n",
            "7   235.111450\n",
            "8   217.834428\n",
            "9   188.335766\n",
            "10  160.621744\n",
            "11  128.212141\n",
            "12  112.673801\n"
          ],
          "name": "stdout"
        }
      ]
    },
    {
      "cell_type": "code",
      "metadata": {
        "colab": {
          "base_uri": "https://localhost:8080/",
          "height": 297
        },
        "id": "hfIE6ohjvUEf",
        "outputId": "9f3f2760-638f-4760-ad5a-d25978835ddc"
      },
      "source": [
        "pca.plot_scree()\n",
        "plt.show()"
      ],
      "execution_count": null,
      "outputs": [
        {
          "output_type": "display_data",
          "data": {
            "image/png": "[encoded data removed]",
            "text/plain": [
              "<Figure size 432x288 with 1 Axes>"
            ]
          },
          "metadata": {
            "tags": [],
            "needs_background": "light"
          }
        }
      ]
    },
    {
      "cell_type": "code",
      "metadata": {
        "colab": {
          "base_uri": "https://localhost:8080/"
        },
        "id": "ssmSJJPsvWBY",
        "outputId": "5797936f-e2d4-4a84-99cc-c2db9fb4137e"
      },
      "source": [
        "cumulative_variance_explained = pd.DataFrame(data=pca.rsquare.values, columns=['cumulative_var'])\n",
        "print(cumulative_variance_explained)"
      ],
      "execution_count": null,
      "outputs": [
        {
          "output_type": "stream",
          "text": [
            "    cumulative_var\n",
            "0         0.000000\n",
            "1         0.212541\n",
            "2         0.330748\n",
            "3         0.424812\n",
            "4         0.515669\n",
            "5         0.594282\n",
            "6         0.668899\n",
            "7         0.735265\n",
            "8         0.794954\n",
            "9         0.850256\n",
            "10        0.898069\n",
            "11        0.938846\n",
            "12        0.971395\n",
            "13        1.000000\n"
          ],
          "name": "stdout"
        }
      ]
    },
    {
      "cell_type": "code",
      "metadata": {
        "id": "V7eNSB-UwUPw",
        "colab": {
          "base_uri": "https://localhost:8080/",
          "height": 402
        },
        "outputId": "e8b2b945-5c8d-4fc6-a340-2f4dabce5529"
      },
      "source": [
        "cumulative_df =  components_df.iloc[:, :5]\n",
        "cumulative_df"
      ],
      "execution_count": null,
      "outputs": [
        {
          "output_type": "execute_result",
          "data": {
            "text/html": [
              "<div>\n",
              "<style scoped>\n",
              "    .dataframe tbody tr th:only-of-type {\n",
              "        vertical-align: middle;\n",
              "    }\n",
              "\n",
              "    .dataframe tbody tr th {\n",
              "        vertical-align: top;\n",
              "    }\n",
              "\n",
              "    .dataframe thead th {\n",
              "        text-align: right;\n",
              "    }\n",
              "</style>\n",
              "<table border=\"1\" class=\"dataframe\">\n",
              "  <thead>\n",
              "    <tr style=\"text-align: right;\">\n",
              "      <th></th>\n",
              "      <th>comp_00</th>\n",
              "      <th>comp_01</th>\n",
              "      <th>comp_02</th>\n",
              "      <th>comp_03</th>\n",
              "      <th>comp_04</th>\n",
              "    </tr>\n",
              "  </thead>\n",
              "  <tbody>\n",
              "    <tr>\n",
              "      <th>0</th>\n",
              "      <td>-0.021570</td>\n",
              "      <td>0.107575</td>\n",
              "      <td>-0.128562</td>\n",
              "      <td>-0.141466</td>\n",
              "      <td>-0.021325</td>\n",
              "    </tr>\n",
              "    <tr>\n",
              "      <th>1</th>\n",
              "      <td>0.015759</td>\n",
              "      <td>-0.044367</td>\n",
              "      <td>-0.059203</td>\n",
              "      <td>-0.128283</td>\n",
              "      <td>-0.129213</td>\n",
              "    </tr>\n",
              "    <tr>\n",
              "      <th>2</th>\n",
              "      <td>0.063205</td>\n",
              "      <td>0.001987</td>\n",
              "      <td>0.023494</td>\n",
              "      <td>-0.021483</td>\n",
              "      <td>-0.049315</td>\n",
              "    </tr>\n",
              "    <tr>\n",
              "      <th>3</th>\n",
              "      <td>0.059307</td>\n",
              "      <td>-0.022955</td>\n",
              "      <td>-0.001591</td>\n",
              "      <td>0.005929</td>\n",
              "      <td>0.013388</td>\n",
              "    </tr>\n",
              "    <tr>\n",
              "      <th>4</th>\n",
              "      <td>0.012834</td>\n",
              "      <td>0.013957</td>\n",
              "      <td>0.147597</td>\n",
              "      <td>0.042766</td>\n",
              "      <td>-0.000647</td>\n",
              "    </tr>\n",
              "    <tr>\n",
              "      <th>...</th>\n",
              "      <td>...</td>\n",
              "      <td>...</td>\n",
              "      <td>...</td>\n",
              "      <td>...</td>\n",
              "      <td>...</td>\n",
              "    </tr>\n",
              "    <tr>\n",
              "      <th>298</th>\n",
              "      <td>-0.039630</td>\n",
              "      <td>-0.024077</td>\n",
              "      <td>0.088734</td>\n",
              "      <td>-0.018176</td>\n",
              "      <td>0.010250</td>\n",
              "    </tr>\n",
              "    <tr>\n",
              "      <th>299</th>\n",
              "      <td>0.024490</td>\n",
              "      <td>-0.048463</td>\n",
              "      <td>-0.028303</td>\n",
              "      <td>-0.048825</td>\n",
              "      <td>-0.051141</td>\n",
              "    </tr>\n",
              "    <tr>\n",
              "      <th>300</th>\n",
              "      <td>-0.084986</td>\n",
              "      <td>0.022164</td>\n",
              "      <td>-0.114719</td>\n",
              "      <td>-0.013711</td>\n",
              "      <td>0.075847</td>\n",
              "    </tr>\n",
              "    <tr>\n",
              "      <th>301</th>\n",
              "      <td>-0.060923</td>\n",
              "      <td>-0.108295</td>\n",
              "      <td>-0.023625</td>\n",
              "      <td>-0.028376</td>\n",
              "      <td>0.067205</td>\n",
              "    </tr>\n",
              "    <tr>\n",
              "      <th>302</th>\n",
              "      <td>0.029724</td>\n",
              "      <td>0.049518</td>\n",
              "      <td>0.035850</td>\n",
              "      <td>-0.012182</td>\n",
              "      <td>-0.012736</td>\n",
              "    </tr>\n",
              "  </tbody>\n",
              "</table>\n",
              "<p>303 rows × 5 columns</p>\n",
              "</div>"
            ],
            "text/plain": [
              "      comp_00   comp_01   comp_02   comp_03   comp_04\n",
              "0   -0.021570  0.107575 -0.128562 -0.141466 -0.021325\n",
              "1    0.015759 -0.044367 -0.059203 -0.128283 -0.129213\n",
              "2    0.063205  0.001987  0.023494 -0.021483 -0.049315\n",
              "3    0.059307 -0.022955 -0.001591  0.005929  0.013388\n",
              "4    0.012834  0.013957  0.147597  0.042766 -0.000647\n",
              "..        ...       ...       ...       ...       ...\n",
              "298 -0.039630 -0.024077  0.088734 -0.018176  0.010250\n",
              "299  0.024490 -0.048463 -0.028303 -0.048825 -0.051141\n",
              "300 -0.084986  0.022164 -0.114719 -0.013711  0.075847\n",
              "301 -0.060923 -0.108295 -0.023625 -0.028376  0.067205\n",
              "302  0.029724  0.049518  0.035850 -0.012182 -0.012736\n",
              "\n",
              "[303 rows x 5 columns]"
            ]
          },
          "metadata": {
            "tags": []
          },
          "execution_count": 82
        }
      ]
    },
    {
      "cell_type": "code",
      "metadata": {
        "id": "EUG6ReR_zA-q"
      },
      "source": [
        ""
      ],
      "execution_count": null,
      "outputs": []
    }
  ]
}